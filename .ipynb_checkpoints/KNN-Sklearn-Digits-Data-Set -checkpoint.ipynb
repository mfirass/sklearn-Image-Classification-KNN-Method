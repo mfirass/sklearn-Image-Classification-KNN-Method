{
 "cells": [
  {
   "cell_type": "markdown",
   "id": "8ac36a79",
   "metadata": {},
   "source": [
    "<h4>Libraries serves for : Dataset load, Classifier load</h4>"
   ]
  },
  {
   "cell_type": "code",
   "execution_count": 1,
   "id": "e1648559",
   "metadata": {},
   "outputs": [],
   "source": [
    "#Importation de la fonction load_digits (Base de donnees dans le module sklearn)\n",
    "from sklearn.datasets import load_digits\n",
    "#Pour decouper les donnees en : donnees d'Apprentissage, donnees de test\n",
    "from sklearn.model_selection import train_test_split\n",
    "#Importation de classifieur KNeighborsClassifier\n",
    "from sklearn.neighbors import KNeighborsClassifier\n",
    "#Importation de metrics pour determiner la precision\n",
    "from sklearn import metrics\n",
    "import matplotlib.pyplot as plt"
   ]
  },
  {
   "cell_type": "markdown",
   "id": "d0ecd05d",
   "metadata": {},
   "source": [
    "<h4>Load the dataset</h4>"
   ]
  },
  {
   "cell_type": "code",
   "execution_count": 5,
   "id": "6de92dc8",
   "metadata": {
    "scrolled": false
   },
   "outputs": [
    {
     "name": "stdout",
     "output_type": "stream",
     "text": [
      "[0 1 2 3 4 5 6 7 8 9]\n"
     ]
    }
   ],
   "source": [
    "#Creation d'un objet digits contient notre jeu de donnees\n",
    "digits = load_digits()\n",
    "#digits.target_names represente les classes qu'on a\n",
    "print(digits.target_names)"
   ]
  },
  {
   "cell_type": "code",
   "execution_count": 8,
   "id": "90c04e3e",
   "metadata": {
    "scrolled": false
   },
   "outputs": [
    {
     "name": "stdout",
     "output_type": "stream",
     "text": [
      "(1797,)\n"
     ]
    }
   ],
   "source": [
    "#Nous avons 1797 observations dans notre jeu de donnees\n",
    "print(digits.target.shape)"
   ]
  },
  {
   "cell_type": "code",
   "execution_count": 12,
   "id": "01f9aa55",
   "metadata": {},
   "outputs": [],
   "source": [
    "#X : les input variables\n",
    "X = digits.data \n",
    "#Y : les étiquettes (output variable)\n",
    "Y =  digits.target \n",
    "#Découpage du jeu de données : 75% en donnees d'apprentissage & 25% en donnees de test\n",
    "X_train,X_test,y_train,y_test = train_test_split(X,Y,test_size=0.25,random_state=4)"
   ]
  },
  {
   "cell_type": "markdown",
   "id": "813d1ab1",
   "metadata": {},
   "source": [
    "<h4>Train the model</h4>"
   ]
  },
  {
   "cell_type": "code",
   "execution_count": 17,
   "id": "dd99e6f2",
   "metadata": {
    "scrolled": true
   },
   "outputs": [],
   "source": [
    "#Determiner la precision de classification selon les valeurs de K allons de 1 a 25\n",
    "k_range = range(1,26)\n",
    "scores = {}\n",
    "scores_list = []\n",
    "for k in k_range:\n",
    "        knn = KNeighborsClassifier(n_neighbors=k)\n",
    "        knn.fit(X_train,y_train)\n",
    "        y_pred=knn.predict(X_test)\n",
    "        scores[k] = metrics.accuracy_score(y_test,y_pred)\n",
    "        scores_list.append(metrics.accuracy_score(y_test,y_pred))"
   ]
  },
  {
   "cell_type": "code",
   "execution_count": 18,
   "id": "a3afe81d",
   "metadata": {},
   "outputs": [
    {
     "data": {
      "text/plain": [
       "Text(0, 0.5, 'Testing Accuracy')"
      ]
     },
     "execution_count": 18,
     "metadata": {},
     "output_type": "execute_result"
    },
    {
     "data": {
      "image/png": "[encoded data removed]",
      "text/plain": [
       "<Figure size 432x288 with 1 Axes>"
      ]
     },
     "metadata": {
      "needs_background": "light"
     },
     "output_type": "display_data"
    }
   ],
   "source": [
    "#plot la relation entre K et la precision de test\n",
    "plt.plot(k_range,scores_list)\n",
    "plt.xlabel('Value of K for KNN')\n",
    "plt.ylabel('Testing Accuracy')"
   ]
  },
  {
   "cell_type": "code",
   "execution_count": 19,
   "id": "01b2ecb4",
   "metadata": {},
   "outputs": [
    {
     "name": "stdout",
     "output_type": "stream",
     "text": [
      "Model trained ..\n"
     ]
    }
   ],
   "source": [
    "#On veut entrainer un 3-NN Classifier (on utilise 3 voisins)\n",
    "knn = KNeighborsClassifier(n_neighbors=3)\n",
    "knn.fit(X_train,y_train)\n",
    "print(\"Model trained ..\")"
   ]
  },
  {
   "cell_type": "markdown",
   "id": "84d8a771",
   "metadata": {},
   "source": [
    "<h4>Prediction</h4>"
   ]
  },
  {
   "cell_type": "code",
   "execution_count": 26,
   "id": "0e1821d1",
   "metadata": {
    "scrolled": true
   },
   "outputs": [
    {
     "data": {
      "text/plain": [
       "<matplotlib.image.AxesImage at 0x2a2476fa5e0>"
      ]
     },
     "execution_count": 26,
     "metadata": {},
     "output_type": "execute_result"
    },
    {
     "data": {
      "text/plain": [
       "<Figure size 432x288 with 0 Axes>"
      ]
     },
     "metadata": {},
     "output_type": "display_data"
    },
    {
     "data": {
      "image/png": "[encoded data removed]",
      "text/plain": [
       "<Figure size 288x288 with 1 Axes>"
      ]
     },
     "metadata": {
      "needs_background": "light"
     },
     "output_type": "display_data"
    }
   ],
   "source": [
    "plt.gray()\n",
    "plt.matshow(digits.images[0])"
   ]
  },
  {
   "cell_type": "code",
   "execution_count": 50,
   "id": "b0226eba",
   "metadata": {
    "scrolled": false
   },
   "outputs": [
    {
     "name": "stdout",
     "output_type": "stream",
     "text": [
      "Choisissez une valeur entre 1347 et 17961500\n",
      "Pridected data : \n",
      "[2]\n"
     ]
    },
    {
     "data": {
      "image/png": "[encoded data removed]",
      "text/plain": [
       "<Figure size 288x288 with 1 Axes>"
      ]
     },
     "metadata": {
      "needs_background": "light"
     },
     "output_type": "display_data"
    }
   ],
   "source": [
    "img = int(input(\"Choisissez une valeur entre 1347 et 1796\"))\n",
    "plt.matshow(digits.images[img])\n",
    "im = X_test[img-1348].reshape(1,-1)\n",
    "y_predict = knn.predict(im)\n",
    "print(\"Pridected data : \")\n",
    "print(y_predict)"
   ]
  },
  {
   "cell_type": "code",
   "execution_count": null,
   "id": "5329a1b8",
   "metadata": {},
   "outputs": [],
   "source": []
  }
 ],
 "metadata": {
  "kernelspec": {
   "display_name": "Python 3",
   "language": "python",
   "name": "python3"
  },
  "language_info": {
   "codemirror_mode": {
    "name": "ipython",
    "version": 3
   },
   "file_extension": ".py",
   "mimetype": "text/x-python",
   "name": "python",
   "nbconvert_exporter": "python",
   "pygments_lexer": "ipython3",
   "version": "3.9.1"
  }
 },
 "nbformat": 4,
 "nbformat_minor": 5
}
